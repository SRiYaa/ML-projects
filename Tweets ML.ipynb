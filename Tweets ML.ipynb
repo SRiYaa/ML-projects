{
 "cells": [
  {
   "cell_type": "code",
   "execution_count": 1,
   "id": "a0ada105",
   "metadata": {},
   "outputs": [],
   "source": [
    "import pandas as pd\n",
    "df=pd.read_csv(\"C:/Datasets/tweets.csv\")"
   ]
  },
  {
   "cell_type": "code",
   "execution_count": 2,
   "id": "5a1799c8",
   "metadata": {},
   "outputs": [
    {
     "data": {
      "text/html": [
       "<div>\n",
       "<style scoped>\n",
       "    .dataframe tbody tr th:only-of-type {\n",
       "        vertical-align: middle;\n",
       "    }\n",
       "\n",
       "    .dataframe tbody tr th {\n",
       "        vertical-align: top;\n",
       "    }\n",
       "\n",
       "    .dataframe thead th {\n",
       "        text-align: right;\n",
       "    }\n",
       "</style>\n",
       "<table border=\"1\" class=\"dataframe\">\n",
       "  <thead>\n",
       "    <tr style=\"text-align: right;\">\n",
       "      <th></th>\n",
       "      <th>id</th>\n",
       "      <th>author</th>\n",
       "      <th>status</th>\n",
       "    </tr>\n",
       "  </thead>\n",
       "  <tbody>\n",
       "    <tr>\n",
       "      <th>0</th>\n",
       "      <td>1</td>\n",
       "      <td>Donald J. Trump</td>\n",
       "      <td>I will be making a major statement from the @W...</td>\n",
       "    </tr>\n",
       "    <tr>\n",
       "      <th>1</th>\n",
       "      <td>2</td>\n",
       "      <td>Donald J. Trump</td>\n",
       "      <td>Just arrived at #ASEAN50 in the Philippines fo...</td>\n",
       "    </tr>\n",
       "    <tr>\n",
       "      <th>2</th>\n",
       "      <td>3</td>\n",
       "      <td>Donald J. Trump</td>\n",
       "      <td>After my tour of Asia, all Countries dealing w...</td>\n",
       "    </tr>\n",
       "    <tr>\n",
       "      <th>3</th>\n",
       "      <td>4</td>\n",
       "      <td>Donald J. Trump</td>\n",
       "      <td>Great to see @RandPaul looking well and back o...</td>\n",
       "    </tr>\n",
       "    <tr>\n",
       "      <th>4</th>\n",
       "      <td>5</td>\n",
       "      <td>Donald J. Trump</td>\n",
       "      <td>Excited to be heading home to see the House pa...</td>\n",
       "    </tr>\n",
       "    <tr>\n",
       "      <th>...</th>\n",
       "      <td>...</td>\n",
       "      <td>...</td>\n",
       "      <td>...</td>\n",
       "    </tr>\n",
       "    <tr>\n",
       "      <th>395</th>\n",
       "      <td>396</td>\n",
       "      <td>Justin Trudeau</td>\n",
       "      <td>RT @googlecanada: Watch tmw: @JustinTrudeau di...</td>\n",
       "    </tr>\n",
       "    <tr>\n",
       "      <th>396</th>\n",
       "      <td>397</td>\n",
       "      <td>Justin Trudeau</td>\n",
       "      <td>Today in Ottawa, I met with the Modern Treaty ...</td>\n",
       "    </tr>\n",
       "    <tr>\n",
       "      <th>397</th>\n",
       "      <td>398</td>\n",
       "      <td>Justin Trudeau</td>\n",
       "      <td>Voici le sommaire de ma rencontre avec les Pre...</td>\n",
       "    </tr>\n",
       "    <tr>\n",
       "      <th>398</th>\n",
       "      <td>399</td>\n",
       "      <td>Justin Trudeau</td>\n",
       "      <td>RT @VeteransENG_CA: #Day1 of 11 Days of Rememb...</td>\n",
       "    </tr>\n",
       "    <tr>\n",
       "      <th>399</th>\n",
       "      <td>400</td>\n",
       "      <td>Justin Trudeau</td>\n",
       "      <td>RT @VeteransFR_CA: #Jour1 des 11 jours pour se...</td>\n",
       "    </tr>\n",
       "  </tbody>\n",
       "</table>\n",
       "<p>400 rows × 3 columns</p>\n",
       "</div>"
      ],
      "text/plain": [
       "      id           author                                             status\n",
       "0      1  Donald J. Trump  I will be making a major statement from the @W...\n",
       "1      2  Donald J. Trump  Just arrived at #ASEAN50 in the Philippines fo...\n",
       "2      3  Donald J. Trump  After my tour of Asia, all Countries dealing w...\n",
       "3      4  Donald J. Trump  Great to see @RandPaul looking well and back o...\n",
       "4      5  Donald J. Trump  Excited to be heading home to see the House pa...\n",
       "..   ...              ...                                                ...\n",
       "395  396   Justin Trudeau  RT @googlecanada: Watch tmw: @JustinTrudeau di...\n",
       "396  397   Justin Trudeau  Today in Ottawa, I met with the Modern Treaty ...\n",
       "397  398   Justin Trudeau  Voici le sommaire de ma rencontre avec les Pre...\n",
       "398  399   Justin Trudeau  RT @VeteransENG_CA: #Day1 of 11 Days of Rememb...\n",
       "399  400   Justin Trudeau  RT @VeteransFR_CA: #Jour1 des 11 jours pour se...\n",
       "\n",
       "[400 rows x 3 columns]"
      ]
     },
     "execution_count": 2,
     "metadata": {},
     "output_type": "execute_result"
    }
   ],
   "source": [
    "df #or df.head()"
   ]
  },
  {
   "cell_type": "code",
   "execution_count": 3,
   "id": "60a36c58",
   "metadata": {},
   "outputs": [],
   "source": [
    "y=df[\"author\"] #will use classification for this case"
   ]
  },
  {
   "cell_type": "code",
   "execution_count": 4,
   "id": "89de8160",
   "metadata": {},
   "outputs": [],
   "source": [
    "x=df[\"status\"]"
   ]
  },
  {
   "cell_type": "code",
   "execution_count": 5,
   "id": "68cdf683",
   "metadata": {},
   "outputs": [
    {
     "data": {
      "text/plain": [
       "0"
      ]
     },
     "execution_count": 5,
     "metadata": {},
     "output_type": "execute_result"
    }
   ],
   "source": [
    "x.isna().sum()"
   ]
  },
  {
   "cell_type": "code",
   "execution_count": 6,
   "id": "1bd5c141",
   "metadata": {},
   "outputs": [
    {
     "data": {
      "text/plain": [
       "0"
      ]
     },
     "execution_count": 6,
     "metadata": {},
     "output_type": "execute_result"
    }
   ],
   "source": [
    "y.isna().sum()"
   ]
  },
  {
   "cell_type": "code",
   "execution_count": 7,
   "id": "33b95884",
   "metadata": {},
   "outputs": [
    {
     "data": {
      "text/plain": [
       "0      I will be making a major statement from the @W...\n",
       "1      Just arrived at #ASEAN50 in the Philippines fo...\n",
       "2      After my tour of Asia, all Countries dealing w...\n",
       "3      Great to see @RandPaul looking well and back o...\n",
       "4      Excited to be heading home to see the House pa...\n",
       "                             ...                        \n",
       "395    RT @googlecanada: Watch tmw: @JustinTrudeau di...\n",
       "396    Today in Ottawa, I met with the Modern Treaty ...\n",
       "397    Voici le sommaire de ma rencontre avec les Pre...\n",
       "398    RT @VeteransENG_CA: #Day1 of 11 Days of Rememb...\n",
       "399    RT @VeteransFR_CA: #Jour1 des 11 jours pour se...\n",
       "Name: status, Length: 400, dtype: object"
      ]
     },
     "execution_count": 7,
     "metadata": {},
     "output_type": "execute_result"
    }
   ],
   "source": [
    "#features are non numeric\n",
    "x"
   ]
  },
  {
   "cell_type": "code",
   "execution_count": 8,
   "id": "9bc68f84",
   "metadata": {},
   "outputs": [],
   "source": [
    "from sklearn.model_selection import train_test_split"
   ]
  },
  {
   "cell_type": "code",
   "execution_count": 9,
   "id": "440653c4",
   "metadata": {},
   "outputs": [],
   "source": [
    "x_train,x_test,y_train,y_test = train_test_split(x,y,test_size=0.3, random_state=42,stratify=y)"
   ]
  },
  {
   "cell_type": "code",
   "execution_count": 10,
   "id": "11c4efbe",
   "metadata": {},
   "outputs": [],
   "source": [
    "from sklearn.feature_extraction.text import CountVectorizer"
   ]
  },
  {
   "cell_type": "code",
   "execution_count": 11,
   "id": "fc02725c",
   "metadata": {},
   "outputs": [],
   "source": [
    "countVectorizer=CountVectorizer(stop_words=\"english\")"
   ]
  },
  {
   "cell_type": "code",
   "execution_count": 12,
   "id": "1a80eb91",
   "metadata": {},
   "outputs": [],
   "source": [
    "x_train=countVectorizer.fit_transform(x_train)"
   ]
  },
  {
   "cell_type": "code",
   "execution_count": 13,
   "id": "f730a839",
   "metadata": {},
   "outputs": [],
   "source": [
    "x_test=countVectorizer.transform(x_test)"
   ]
  },
  {
   "cell_type": "code",
   "execution_count": 14,
   "id": "b7962b2e",
   "metadata": {},
   "outputs": [
    {
     "data": {
      "text/plain": [
       "scipy.sparse.csr.csr_matrix"
      ]
     },
     "execution_count": 14,
     "metadata": {},
     "output_type": "execute_result"
    }
   ],
   "source": [
    "type(x_train)"
   ]
  },
  {
   "cell_type": "code",
   "execution_count": 15,
   "id": "5fd0a8c9",
   "metadata": {},
   "outputs": [
    {
     "data": {
      "text/plain": [
       "scipy.sparse.csr.csr_matrix"
      ]
     },
     "execution_count": 15,
     "metadata": {},
     "output_type": "execute_result"
    }
   ],
   "source": [
    "type(x_test)"
   ]
  },
  {
   "cell_type": "code",
   "execution_count": 16,
   "id": "9c149886",
   "metadata": {},
   "outputs": [],
   "source": [
    "from sklearn.naive_bayes import MultinomialNB"
   ]
  },
  {
   "cell_type": "code",
   "execution_count": 17,
   "id": "7889fc2a",
   "metadata": {},
   "outputs": [],
   "source": [
    "model=MultinomialNB()"
   ]
  },
  {
   "cell_type": "code",
   "execution_count": 18,
   "id": "183f3dea",
   "metadata": {},
   "outputs": [
    {
     "data": {
      "text/plain": [
       "MultinomialNB()"
      ]
     },
     "execution_count": 18,
     "metadata": {},
     "output_type": "execute_result"
    }
   ],
   "source": [
    "model.fit(x_train,y_train)"
   ]
  },
  {
   "cell_type": "code",
   "execution_count": 19,
   "id": "5b490633",
   "metadata": {},
   "outputs": [
    {
     "data": {
      "text/plain": [
       "0.975"
      ]
     },
     "execution_count": 19,
     "metadata": {},
     "output_type": "execute_result"
    }
   ],
   "source": [
    "model.score(x_test,y_test)"
   ]
  },
  {
   "cell_type": "code",
   "execution_count": 20,
   "id": "622b9ee8",
   "metadata": {},
   "outputs": [],
   "source": [
    "#prediction\n",
    "tweet=\"For almost a year, Canada’s borders have been closed to foreign travelers. Less than 2% of COVID-19 cases are linked to returning Canadians. However, due to new variants, we are strengthening border measures to keep you and your family safe.\""
   ]
  },
  {
   "cell_type": "code",
   "execution_count": 21,
   "id": "7b50add9",
   "metadata": {},
   "outputs": [],
   "source": [
    "data=countVectorizer.transform([tweet])"
   ]
  },
  {
   "cell_type": "code",
   "execution_count": 22,
   "id": "a9bde5dc",
   "metadata": {},
   "outputs": [
    {
     "data": {
      "text/plain": [
       "array(['Justin Trudeau'], dtype='<U15')"
      ]
     },
     "execution_count": 22,
     "metadata": {},
     "output_type": "execute_result"
    }
   ],
   "source": [
    "model.predict(data)"
   ]
  },
  {
   "cell_type": "code",
   "execution_count": null,
   "id": "a15514f3",
   "metadata": {},
   "outputs": [],
   "source": []
  }
 ],
 "metadata": {
  "kernelspec": {
   "display_name": "Python 3",
   "language": "python",
   "name": "python3"
  },
  "language_info": {
   "codemirror_mode": {
    "name": "ipython",
    "version": 3
   },
   "file_extension": ".py",
   "mimetype": "text/x-python",
   "name": "python",
   "nbconvert_exporter": "python",
   "pygments_lexer": "ipython3",
   "version": "3.8.5"
  }
 },
 "nbformat": 4,
 "nbformat_minor": 5
}
