{
 "cells": [
  {
   "cell_type": "code",
   "execution_count": 1,
   "id": "613e4dd5",
   "metadata": {},
   "outputs": [],
   "source": [
    "import pandas as pd\n",
    "df=pd.read_csv(\"C:/Datasets/house-votes-84.csv\")"
   ]
  },
  {
   "cell_type": "code",
   "execution_count": 2,
   "id": "c8da5bae",
   "metadata": {},
   "outputs": [
    {
     "data": {
      "text/html": [
       "<div>\n",
       "<style scoped>\n",
       "    .dataframe tbody tr th:only-of-type {\n",
       "        vertical-align: middle;\n",
       "    }\n",
       "\n",
       "    .dataframe tbody tr th {\n",
       "        vertical-align: top;\n",
       "    }\n",
       "\n",
       "    .dataframe thead th {\n",
       "        text-align: right;\n",
       "    }\n",
       "</style>\n",
       "<table border=\"1\" class=\"dataframe\">\n",
       "  <thead>\n",
       "    <tr style=\"text-align: right;\">\n",
       "      <th></th>\n",
       "      <th>Class Name</th>\n",
       "      <th>handicapped-infants</th>\n",
       "      <th>water-project-cost-sharing</th>\n",
       "      <th>adoption-of-the-budget-resolution</th>\n",
       "      <th>physician-fee-freeze</th>\n",
       "      <th>el-salvador-aid</th>\n",
       "      <th>religious-groups-in-schools</th>\n",
       "      <th>anti-satellite-test-ban</th>\n",
       "      <th>aid-to-nicaraguan-contras</th>\n",
       "      <th>mx-missile</th>\n",
       "      <th>immigration</th>\n",
       "      <th>synfuels-corporation-cutback</th>\n",
       "      <th>education-spending</th>\n",
       "      <th>superfund-right-to-sue</th>\n",
       "      <th>crime</th>\n",
       "      <th>duty-free-exports</th>\n",
       "      <th>export-administration-act-south-africa</th>\n",
       "    </tr>\n",
       "  </thead>\n",
       "  <tbody>\n",
       "    <tr>\n",
       "      <th>0</th>\n",
       "      <td>republican</td>\n",
       "      <td>n</td>\n",
       "      <td>y</td>\n",
       "      <td>n</td>\n",
       "      <td>y</td>\n",
       "      <td>y</td>\n",
       "      <td>y</td>\n",
       "      <td>n</td>\n",
       "      <td>n</td>\n",
       "      <td>n</td>\n",
       "      <td>y</td>\n",
       "      <td>?</td>\n",
       "      <td>y</td>\n",
       "      <td>y</td>\n",
       "      <td>y</td>\n",
       "      <td>n</td>\n",
       "      <td>y</td>\n",
       "    </tr>\n",
       "    <tr>\n",
       "      <th>1</th>\n",
       "      <td>republican</td>\n",
       "      <td>n</td>\n",
       "      <td>y</td>\n",
       "      <td>n</td>\n",
       "      <td>y</td>\n",
       "      <td>y</td>\n",
       "      <td>y</td>\n",
       "      <td>n</td>\n",
       "      <td>n</td>\n",
       "      <td>n</td>\n",
       "      <td>n</td>\n",
       "      <td>n</td>\n",
       "      <td>y</td>\n",
       "      <td>y</td>\n",
       "      <td>y</td>\n",
       "      <td>n</td>\n",
       "      <td>?</td>\n",
       "    </tr>\n",
       "    <tr>\n",
       "      <th>2</th>\n",
       "      <td>democrat</td>\n",
       "      <td>?</td>\n",
       "      <td>y</td>\n",
       "      <td>y</td>\n",
       "      <td>?</td>\n",
       "      <td>y</td>\n",
       "      <td>y</td>\n",
       "      <td>n</td>\n",
       "      <td>n</td>\n",
       "      <td>n</td>\n",
       "      <td>n</td>\n",
       "      <td>y</td>\n",
       "      <td>n</td>\n",
       "      <td>y</td>\n",
       "      <td>y</td>\n",
       "      <td>n</td>\n",
       "      <td>n</td>\n",
       "    </tr>\n",
       "    <tr>\n",
       "      <th>3</th>\n",
       "      <td>democrat</td>\n",
       "      <td>n</td>\n",
       "      <td>y</td>\n",
       "      <td>y</td>\n",
       "      <td>n</td>\n",
       "      <td>?</td>\n",
       "      <td>y</td>\n",
       "      <td>n</td>\n",
       "      <td>n</td>\n",
       "      <td>n</td>\n",
       "      <td>n</td>\n",
       "      <td>y</td>\n",
       "      <td>n</td>\n",
       "      <td>y</td>\n",
       "      <td>n</td>\n",
       "      <td>n</td>\n",
       "      <td>y</td>\n",
       "    </tr>\n",
       "    <tr>\n",
       "      <th>4</th>\n",
       "      <td>democrat</td>\n",
       "      <td>y</td>\n",
       "      <td>y</td>\n",
       "      <td>y</td>\n",
       "      <td>n</td>\n",
       "      <td>y</td>\n",
       "      <td>y</td>\n",
       "      <td>n</td>\n",
       "      <td>n</td>\n",
       "      <td>n</td>\n",
       "      <td>n</td>\n",
       "      <td>y</td>\n",
       "      <td>?</td>\n",
       "      <td>y</td>\n",
       "      <td>y</td>\n",
       "      <td>y</td>\n",
       "      <td>y</td>\n",
       "    </tr>\n",
       "    <tr>\n",
       "      <th>...</th>\n",
       "      <td>...</td>\n",
       "      <td>...</td>\n",
       "      <td>...</td>\n",
       "      <td>...</td>\n",
       "      <td>...</td>\n",
       "      <td>...</td>\n",
       "      <td>...</td>\n",
       "      <td>...</td>\n",
       "      <td>...</td>\n",
       "      <td>...</td>\n",
       "      <td>...</td>\n",
       "      <td>...</td>\n",
       "      <td>...</td>\n",
       "      <td>...</td>\n",
       "      <td>...</td>\n",
       "      <td>...</td>\n",
       "      <td>...</td>\n",
       "    </tr>\n",
       "    <tr>\n",
       "      <th>430</th>\n",
       "      <td>republican</td>\n",
       "      <td>n</td>\n",
       "      <td>n</td>\n",
       "      <td>y</td>\n",
       "      <td>y</td>\n",
       "      <td>y</td>\n",
       "      <td>y</td>\n",
       "      <td>n</td>\n",
       "      <td>n</td>\n",
       "      <td>y</td>\n",
       "      <td>y</td>\n",
       "      <td>n</td>\n",
       "      <td>y</td>\n",
       "      <td>y</td>\n",
       "      <td>y</td>\n",
       "      <td>n</td>\n",
       "      <td>y</td>\n",
       "    </tr>\n",
       "    <tr>\n",
       "      <th>431</th>\n",
       "      <td>democrat</td>\n",
       "      <td>n</td>\n",
       "      <td>n</td>\n",
       "      <td>y</td>\n",
       "      <td>n</td>\n",
       "      <td>n</td>\n",
       "      <td>n</td>\n",
       "      <td>y</td>\n",
       "      <td>y</td>\n",
       "      <td>y</td>\n",
       "      <td>y</td>\n",
       "      <td>n</td>\n",
       "      <td>n</td>\n",
       "      <td>n</td>\n",
       "      <td>n</td>\n",
       "      <td>n</td>\n",
       "      <td>y</td>\n",
       "    </tr>\n",
       "    <tr>\n",
       "      <th>432</th>\n",
       "      <td>republican</td>\n",
       "      <td>n</td>\n",
       "      <td>?</td>\n",
       "      <td>n</td>\n",
       "      <td>y</td>\n",
       "      <td>y</td>\n",
       "      <td>y</td>\n",
       "      <td>n</td>\n",
       "      <td>n</td>\n",
       "      <td>n</td>\n",
       "      <td>n</td>\n",
       "      <td>y</td>\n",
       "      <td>y</td>\n",
       "      <td>y</td>\n",
       "      <td>y</td>\n",
       "      <td>n</td>\n",
       "      <td>y</td>\n",
       "    </tr>\n",
       "    <tr>\n",
       "      <th>433</th>\n",
       "      <td>republican</td>\n",
       "      <td>n</td>\n",
       "      <td>n</td>\n",
       "      <td>n</td>\n",
       "      <td>y</td>\n",
       "      <td>y</td>\n",
       "      <td>y</td>\n",
       "      <td>?</td>\n",
       "      <td>?</td>\n",
       "      <td>?</td>\n",
       "      <td>?</td>\n",
       "      <td>n</td>\n",
       "      <td>y</td>\n",
       "      <td>y</td>\n",
       "      <td>y</td>\n",
       "      <td>n</td>\n",
       "      <td>y</td>\n",
       "    </tr>\n",
       "    <tr>\n",
       "      <th>434</th>\n",
       "      <td>republican</td>\n",
       "      <td>n</td>\n",
       "      <td>y</td>\n",
       "      <td>n</td>\n",
       "      <td>y</td>\n",
       "      <td>y</td>\n",
       "      <td>y</td>\n",
       "      <td>n</td>\n",
       "      <td>n</td>\n",
       "      <td>n</td>\n",
       "      <td>y</td>\n",
       "      <td>n</td>\n",
       "      <td>y</td>\n",
       "      <td>y</td>\n",
       "      <td>y</td>\n",
       "      <td>?</td>\n",
       "      <td>n</td>\n",
       "    </tr>\n",
       "  </tbody>\n",
       "</table>\n",
       "<p>435 rows × 17 columns</p>\n",
       "</div>"
      ],
      "text/plain": [
       "     Class Name  handicapped-infants  water-project-cost-sharing  \\\n",
       "0    republican                    n                           y   \n",
       "1    republican                    n                           y   \n",
       "2      democrat                    ?                           y   \n",
       "3      democrat                    n                           y   \n",
       "4      democrat                    y                           y   \n",
       "..          ...                  ...                         ...   \n",
       "430  republican                    n                           n   \n",
       "431    democrat                    n                           n   \n",
       "432  republican                    n                           ?   \n",
       "433  republican                    n                           n   \n",
       "434  republican                    n                           y   \n",
       "\n",
       "     adoption-of-the-budget-resolution  physician-fee-freeze  el-salvador-aid  \\\n",
       "0                                    n                     y                y   \n",
       "1                                    n                     y                y   \n",
       "2                                    y                     ?                y   \n",
       "3                                    y                     n                ?   \n",
       "4                                    y                     n                y   \n",
       "..                                 ...                   ...              ...   \n",
       "430                                  y                     y                y   \n",
       "431                                  y                     n                n   \n",
       "432                                  n                     y                y   \n",
       "433                                  n                     y                y   \n",
       "434                                  n                     y                y   \n",
       "\n",
       "     religious-groups-in-schools  anti-satellite-test-ban  \\\n",
       "0                              y                        n   \n",
       "1                              y                        n   \n",
       "2                              y                        n   \n",
       "3                              y                        n   \n",
       "4                              y                        n   \n",
       "..                           ...                      ...   \n",
       "430                            y                        n   \n",
       "431                            n                        y   \n",
       "432                            y                        n   \n",
       "433                            y                        ?   \n",
       "434                            y                        n   \n",
       "\n",
       "     aid-to-nicaraguan-contras  mx-missile  immigration  \\\n",
       "0                            n           n            y   \n",
       "1                            n           n            n   \n",
       "2                            n           n            n   \n",
       "3                            n           n            n   \n",
       "4                            n           n            n   \n",
       "..                         ...         ...          ...   \n",
       "430                          n           y            y   \n",
       "431                          y           y            y   \n",
       "432                          n           n            n   \n",
       "433                          ?           ?            ?   \n",
       "434                          n           n            y   \n",
       "\n",
       "     synfuels-corporation-cutback  education-spending  superfund-right-to-sue  \\\n",
       "0                               ?                   y                       y   \n",
       "1                               n                   y                       y   \n",
       "2                               y                   n                       y   \n",
       "3                               y                   n                       y   \n",
       "4                               y                   ?                       y   \n",
       "..                            ...                 ...                     ...   \n",
       "430                             n                   y                       y   \n",
       "431                             n                   n                       n   \n",
       "432                             y                   y                       y   \n",
       "433                             n                   y                       y   \n",
       "434                             n                   y                       y   \n",
       "\n",
       "     crime  duty-free-exports  export-administration-act-south-africa  \n",
       "0        y                  n                                       y  \n",
       "1        y                  n                                       ?  \n",
       "2        y                  n                                       n  \n",
       "3        n                  n                                       y  \n",
       "4        y                  y                                       y  \n",
       "..     ...                ...                                     ...  \n",
       "430      y                  n                                       y  \n",
       "431      n                  n                                       y  \n",
       "432      y                  n                                       y  \n",
       "433      y                  n                                       y  \n",
       "434      y                  ?                                       n  \n",
       "\n",
       "[435 rows x 17 columns]"
      ]
     },
     "execution_count": 2,
     "metadata": {},
     "output_type": "execute_result"
    }
   ],
   "source": [
    "df"
   ]
  },
  {
   "cell_type": "code",
   "execution_count": 3,
   "id": "62e72162",
   "metadata": {},
   "outputs": [
    {
     "data": {
      "text/plain": [
       "Class Name                                 0\n",
       " handicapped-infants                       0\n",
       " water-project-cost-sharing                0\n",
       " adoption-of-the-budget-resolution         0\n",
       " physician-fee-freeze                      0\n",
       " el-salvador-aid                           0\n",
       " religious-groups-in-schools               0\n",
       " anti-satellite-test-ban                   0\n",
       " aid-to-nicaraguan-contras                 0\n",
       " mx-missile                                0\n",
       " immigration                               0\n",
       " synfuels-corporation-cutback              0\n",
       " education-spending                        0\n",
       " superfund-right-to-sue                    0\n",
       " crime                                     0\n",
       " duty-free-exports                         0\n",
       " export-administration-act-south-africa    0\n",
       "dtype: int64"
      ]
     },
     "execution_count": 3,
     "metadata": {},
     "output_type": "execute_result"
    }
   ],
   "source": [
    "df.isna().sum()"
   ]
  },
  {
   "cell_type": "code",
   "execution_count": 4,
   "id": "9415d590",
   "metadata": {},
   "outputs": [],
   "source": [
    "import numpy as np"
   ]
  },
  {
   "cell_type": "code",
   "execution_count": 5,
   "id": "232c7369",
   "metadata": {},
   "outputs": [],
   "source": [
    "df.replace(\"?\",np.nan,inplace=True)"
   ]
  },
  {
   "cell_type": "code",
   "execution_count": 6,
   "id": "713219af",
   "metadata": {},
   "outputs": [
    {
     "data": {
      "text/html": [
       "<div>\n",
       "<style scoped>\n",
       "    .dataframe tbody tr th:only-of-type {\n",
       "        vertical-align: middle;\n",
       "    }\n",
       "\n",
       "    .dataframe tbody tr th {\n",
       "        vertical-align: top;\n",
       "    }\n",
       "\n",
       "    .dataframe thead th {\n",
       "        text-align: right;\n",
       "    }\n",
       "</style>\n",
       "<table border=\"1\" class=\"dataframe\">\n",
       "  <thead>\n",
       "    <tr style=\"text-align: right;\">\n",
       "      <th></th>\n",
       "      <th>Class Name</th>\n",
       "      <th>handicapped-infants</th>\n",
       "      <th>water-project-cost-sharing</th>\n",
       "      <th>adoption-of-the-budget-resolution</th>\n",
       "      <th>physician-fee-freeze</th>\n",
       "      <th>el-salvador-aid</th>\n",
       "      <th>religious-groups-in-schools</th>\n",
       "      <th>anti-satellite-test-ban</th>\n",
       "      <th>aid-to-nicaraguan-contras</th>\n",
       "      <th>mx-missile</th>\n",
       "      <th>immigration</th>\n",
       "      <th>synfuels-corporation-cutback</th>\n",
       "      <th>education-spending</th>\n",
       "      <th>superfund-right-to-sue</th>\n",
       "      <th>crime</th>\n",
       "      <th>duty-free-exports</th>\n",
       "      <th>export-administration-act-south-africa</th>\n",
       "    </tr>\n",
       "  </thead>\n",
       "  <tbody>\n",
       "    <tr>\n",
       "      <th>0</th>\n",
       "      <td>republican</td>\n",
       "      <td>n</td>\n",
       "      <td>y</td>\n",
       "      <td>n</td>\n",
       "      <td>y</td>\n",
       "      <td>y</td>\n",
       "      <td>y</td>\n",
       "      <td>n</td>\n",
       "      <td>n</td>\n",
       "      <td>n</td>\n",
       "      <td>y</td>\n",
       "      <td>NaN</td>\n",
       "      <td>y</td>\n",
       "      <td>y</td>\n",
       "      <td>y</td>\n",
       "      <td>n</td>\n",
       "      <td>y</td>\n",
       "    </tr>\n",
       "    <tr>\n",
       "      <th>1</th>\n",
       "      <td>republican</td>\n",
       "      <td>n</td>\n",
       "      <td>y</td>\n",
       "      <td>n</td>\n",
       "      <td>y</td>\n",
       "      <td>y</td>\n",
       "      <td>y</td>\n",
       "      <td>n</td>\n",
       "      <td>n</td>\n",
       "      <td>n</td>\n",
       "      <td>n</td>\n",
       "      <td>n</td>\n",
       "      <td>y</td>\n",
       "      <td>y</td>\n",
       "      <td>y</td>\n",
       "      <td>n</td>\n",
       "      <td>NaN</td>\n",
       "    </tr>\n",
       "    <tr>\n",
       "      <th>2</th>\n",
       "      <td>democrat</td>\n",
       "      <td>NaN</td>\n",
       "      <td>y</td>\n",
       "      <td>y</td>\n",
       "      <td>NaN</td>\n",
       "      <td>y</td>\n",
       "      <td>y</td>\n",
       "      <td>n</td>\n",
       "      <td>n</td>\n",
       "      <td>n</td>\n",
       "      <td>n</td>\n",
       "      <td>y</td>\n",
       "      <td>n</td>\n",
       "      <td>y</td>\n",
       "      <td>y</td>\n",
       "      <td>n</td>\n",
       "      <td>n</td>\n",
       "    </tr>\n",
       "    <tr>\n",
       "      <th>3</th>\n",
       "      <td>democrat</td>\n",
       "      <td>n</td>\n",
       "      <td>y</td>\n",
       "      <td>y</td>\n",
       "      <td>n</td>\n",
       "      <td>NaN</td>\n",
       "      <td>y</td>\n",
       "      <td>n</td>\n",
       "      <td>n</td>\n",
       "      <td>n</td>\n",
       "      <td>n</td>\n",
       "      <td>y</td>\n",
       "      <td>n</td>\n",
       "      <td>y</td>\n",
       "      <td>n</td>\n",
       "      <td>n</td>\n",
       "      <td>y</td>\n",
       "    </tr>\n",
       "    <tr>\n",
       "      <th>4</th>\n",
       "      <td>democrat</td>\n",
       "      <td>y</td>\n",
       "      <td>y</td>\n",
       "      <td>y</td>\n",
       "      <td>n</td>\n",
       "      <td>y</td>\n",
       "      <td>y</td>\n",
       "      <td>n</td>\n",
       "      <td>n</td>\n",
       "      <td>n</td>\n",
       "      <td>n</td>\n",
       "      <td>y</td>\n",
       "      <td>NaN</td>\n",
       "      <td>y</td>\n",
       "      <td>y</td>\n",
       "      <td>y</td>\n",
       "      <td>y</td>\n",
       "    </tr>\n",
       "    <tr>\n",
       "      <th>...</th>\n",
       "      <td>...</td>\n",
       "      <td>...</td>\n",
       "      <td>...</td>\n",
       "      <td>...</td>\n",
       "      <td>...</td>\n",
       "      <td>...</td>\n",
       "      <td>...</td>\n",
       "      <td>...</td>\n",
       "      <td>...</td>\n",
       "      <td>...</td>\n",
       "      <td>...</td>\n",
       "      <td>...</td>\n",
       "      <td>...</td>\n",
       "      <td>...</td>\n",
       "      <td>...</td>\n",
       "      <td>...</td>\n",
       "      <td>...</td>\n",
       "    </tr>\n",
       "    <tr>\n",
       "      <th>430</th>\n",
       "      <td>republican</td>\n",
       "      <td>n</td>\n",
       "      <td>n</td>\n",
       "      <td>y</td>\n",
       "      <td>y</td>\n",
       "      <td>y</td>\n",
       "      <td>y</td>\n",
       "      <td>n</td>\n",
       "      <td>n</td>\n",
       "      <td>y</td>\n",
       "      <td>y</td>\n",
       "      <td>n</td>\n",
       "      <td>y</td>\n",
       "      <td>y</td>\n",
       "      <td>y</td>\n",
       "      <td>n</td>\n",
       "      <td>y</td>\n",
       "    </tr>\n",
       "    <tr>\n",
       "      <th>431</th>\n",
       "      <td>democrat</td>\n",
       "      <td>n</td>\n",
       "      <td>n</td>\n",
       "      <td>y</td>\n",
       "      <td>n</td>\n",
       "      <td>n</td>\n",
       "      <td>n</td>\n",
       "      <td>y</td>\n",
       "      <td>y</td>\n",
       "      <td>y</td>\n",
       "      <td>y</td>\n",
       "      <td>n</td>\n",
       "      <td>n</td>\n",
       "      <td>n</td>\n",
       "      <td>n</td>\n",
       "      <td>n</td>\n",
       "      <td>y</td>\n",
       "    </tr>\n",
       "    <tr>\n",
       "      <th>432</th>\n",
       "      <td>republican</td>\n",
       "      <td>n</td>\n",
       "      <td>NaN</td>\n",
       "      <td>n</td>\n",
       "      <td>y</td>\n",
       "      <td>y</td>\n",
       "      <td>y</td>\n",
       "      <td>n</td>\n",
       "      <td>n</td>\n",
       "      <td>n</td>\n",
       "      <td>n</td>\n",
       "      <td>y</td>\n",
       "      <td>y</td>\n",
       "      <td>y</td>\n",
       "      <td>y</td>\n",
       "      <td>n</td>\n",
       "      <td>y</td>\n",
       "    </tr>\n",
       "    <tr>\n",
       "      <th>433</th>\n",
       "      <td>republican</td>\n",
       "      <td>n</td>\n",
       "      <td>n</td>\n",
       "      <td>n</td>\n",
       "      <td>y</td>\n",
       "      <td>y</td>\n",
       "      <td>y</td>\n",
       "      <td>NaN</td>\n",
       "      <td>NaN</td>\n",
       "      <td>NaN</td>\n",
       "      <td>NaN</td>\n",
       "      <td>n</td>\n",
       "      <td>y</td>\n",
       "      <td>y</td>\n",
       "      <td>y</td>\n",
       "      <td>n</td>\n",
       "      <td>y</td>\n",
       "    </tr>\n",
       "    <tr>\n",
       "      <th>434</th>\n",
       "      <td>republican</td>\n",
       "      <td>n</td>\n",
       "      <td>y</td>\n",
       "      <td>n</td>\n",
       "      <td>y</td>\n",
       "      <td>y</td>\n",
       "      <td>y</td>\n",
       "      <td>n</td>\n",
       "      <td>n</td>\n",
       "      <td>n</td>\n",
       "      <td>y</td>\n",
       "      <td>n</td>\n",
       "      <td>y</td>\n",
       "      <td>y</td>\n",
       "      <td>y</td>\n",
       "      <td>NaN</td>\n",
       "      <td>n</td>\n",
       "    </tr>\n",
       "  </tbody>\n",
       "</table>\n",
       "<p>435 rows × 17 columns</p>\n",
       "</div>"
      ],
      "text/plain": [
       "     Class Name  handicapped-infants  water-project-cost-sharing  \\\n",
       "0    republican                    n                           y   \n",
       "1    republican                    n                           y   \n",
       "2      democrat                  NaN                           y   \n",
       "3      democrat                    n                           y   \n",
       "4      democrat                    y                           y   \n",
       "..          ...                  ...                         ...   \n",
       "430  republican                    n                           n   \n",
       "431    democrat                    n                           n   \n",
       "432  republican                    n                         NaN   \n",
       "433  republican                    n                           n   \n",
       "434  republican                    n                           y   \n",
       "\n",
       "     adoption-of-the-budget-resolution  physician-fee-freeze  el-salvador-aid  \\\n",
       "0                                    n                     y                y   \n",
       "1                                    n                     y                y   \n",
       "2                                    y                   NaN                y   \n",
       "3                                    y                     n              NaN   \n",
       "4                                    y                     n                y   \n",
       "..                                 ...                   ...              ...   \n",
       "430                                  y                     y                y   \n",
       "431                                  y                     n                n   \n",
       "432                                  n                     y                y   \n",
       "433                                  n                     y                y   \n",
       "434                                  n                     y                y   \n",
       "\n",
       "     religious-groups-in-schools  anti-satellite-test-ban  \\\n",
       "0                              y                        n   \n",
       "1                              y                        n   \n",
       "2                              y                        n   \n",
       "3                              y                        n   \n",
       "4                              y                        n   \n",
       "..                           ...                      ...   \n",
       "430                            y                        n   \n",
       "431                            n                        y   \n",
       "432                            y                        n   \n",
       "433                            y                      NaN   \n",
       "434                            y                        n   \n",
       "\n",
       "     aid-to-nicaraguan-contras  mx-missile  immigration  \\\n",
       "0                            n           n            y   \n",
       "1                            n           n            n   \n",
       "2                            n           n            n   \n",
       "3                            n           n            n   \n",
       "4                            n           n            n   \n",
       "..                         ...         ...          ...   \n",
       "430                          n           y            y   \n",
       "431                          y           y            y   \n",
       "432                          n           n            n   \n",
       "433                        NaN         NaN          NaN   \n",
       "434                          n           n            y   \n",
       "\n",
       "     synfuels-corporation-cutback  education-spending  superfund-right-to-sue  \\\n",
       "0                             NaN                   y                       y   \n",
       "1                               n                   y                       y   \n",
       "2                               y                   n                       y   \n",
       "3                               y                   n                       y   \n",
       "4                               y                 NaN                       y   \n",
       "..                            ...                 ...                     ...   \n",
       "430                             n                   y                       y   \n",
       "431                             n                   n                       n   \n",
       "432                             y                   y                       y   \n",
       "433                             n                   y                       y   \n",
       "434                             n                   y                       y   \n",
       "\n",
       "     crime  duty-free-exports  export-administration-act-south-africa  \n",
       "0        y                  n                                       y  \n",
       "1        y                  n                                     NaN  \n",
       "2        y                  n                                       n  \n",
       "3        n                  n                                       y  \n",
       "4        y                  y                                       y  \n",
       "..     ...                ...                                     ...  \n",
       "430      y                  n                                       y  \n",
       "431      n                  n                                       y  \n",
       "432      y                  n                                       y  \n",
       "433      y                  n                                       y  \n",
       "434      y                NaN                                       n  \n",
       "\n",
       "[435 rows x 17 columns]"
      ]
     },
     "execution_count": 6,
     "metadata": {},
     "output_type": "execute_result"
    }
   ],
   "source": [
    "df"
   ]
  },
  {
   "cell_type": "code",
   "execution_count": 7,
   "id": "3e997860",
   "metadata": {},
   "outputs": [
    {
     "data": {
      "text/plain": [
       "Class Name                                   0\n",
       " handicapped-infants                        12\n",
       " water-project-cost-sharing                 48\n",
       " adoption-of-the-budget-resolution          11\n",
       " physician-fee-freeze                       11\n",
       " el-salvador-aid                            15\n",
       " religious-groups-in-schools                11\n",
       " anti-satellite-test-ban                    14\n",
       " aid-to-nicaraguan-contras                  15\n",
       " mx-missile                                 22\n",
       " immigration                                 7\n",
       " synfuels-corporation-cutback               21\n",
       " education-spending                         31\n",
       " superfund-right-to-sue                     25\n",
       " crime                                      17\n",
       " duty-free-exports                          28\n",
       " export-administration-act-south-africa    104\n",
       "dtype: int64"
      ]
     },
     "execution_count": 7,
     "metadata": {},
     "output_type": "execute_result"
    }
   ],
   "source": [
    "df.isna().sum()"
   ]
  },
  {
   "cell_type": "code",
   "execution_count": 8,
   "id": "9254b260",
   "metadata": {},
   "outputs": [],
   "source": [
    "#fill using :\n",
    "#1. Subset your column of interest\n",
    "#2. Convert it to boolean based on condition\n",
    "#3. surround with variablename[..code uptil step 2..]"
   ]
  },
  {
   "cell_type": "code",
   "execution_count": 9,
   "id": "0bb29b41",
   "metadata": {},
   "outputs": [],
   "source": [
    "republican=df[df[\"Class Name\"]==\"republican\"]"
   ]
  },
  {
   "cell_type": "code",
   "execution_count": 10,
   "id": "523b3e0f",
   "metadata": {},
   "outputs": [],
   "source": [
    "democrat=df[df[\"Class Name\"]==\"democrat\"]"
   ]
  },
  {
   "cell_type": "code",
   "execution_count": 11,
   "id": "fff0941f",
   "metadata": {},
   "outputs": [
    {
     "data": {
      "text/plain": [
       "(435, 17)"
      ]
     },
     "execution_count": 11,
     "metadata": {},
     "output_type": "execute_result"
    }
   ],
   "source": [
    "df.shape"
   ]
  },
  {
   "cell_type": "code",
   "execution_count": 12,
   "id": "fb63e2f7",
   "metadata": {},
   "outputs": [
    {
     "data": {
      "text/plain": [
       "(168, 17)"
      ]
     },
     "execution_count": 12,
     "metadata": {},
     "output_type": "execute_result"
    }
   ],
   "source": [
    "republican.shape"
   ]
  },
  {
   "cell_type": "code",
   "execution_count": 13,
   "id": "5313845f",
   "metadata": {},
   "outputs": [
    {
     "data": {
      "text/plain": [
       "(267, 17)"
      ]
     },
     "execution_count": 13,
     "metadata": {},
     "output_type": "execute_result"
    }
   ],
   "source": [
    "democrat.shape"
   ]
  },
  {
   "cell_type": "code",
   "execution_count": 14,
   "id": "f1c2cba8",
   "metadata": {},
   "outputs": [
    {
     "data": {
      "text/plain": [
       "Index(['Class Name', ' handicapped-infants', ' water-project-cost-sharing',\n",
       "       ' adoption-of-the-budget-resolution', ' physician-fee-freeze',\n",
       "       ' el-salvador-aid', ' religious-groups-in-schools',\n",
       "       ' anti-satellite-test-ban', ' aid-to-nicaraguan-contras', ' mx-missile',\n",
       "       ' immigration', ' synfuels-corporation-cutback', ' education-spending',\n",
       "       ' superfund-right-to-sue', ' crime', ' duty-free-exports',\n",
       "       ' export-administration-act-south-africa'],\n",
       "      dtype='object')"
      ]
     },
     "execution_count": 14,
     "metadata": {},
     "output_type": "execute_result"
    }
   ],
   "source": [
    "republican.columns"
   ]
  },
  {
   "cell_type": "code",
   "execution_count": 15,
   "id": "9a4b4f58",
   "metadata": {},
   "outputs": [],
   "source": [
    "#republican[' handicapped-infants']=republican[' handicapped-infants'].fillna(republican[' handicapped-infants'].mode()[0])\n",
    "#republican.isna().sum()"
   ]
  },
  {
   "cell_type": "code",
   "execution_count": 16,
   "id": "16d57c6f",
   "metadata": {},
   "outputs": [
    {
     "name": "stderr",
     "output_type": "stream",
     "text": [
      "<ipython-input-16-98176d2e6c84>:2: SettingWithCopyWarning: \n",
      "A value is trying to be set on a copy of a slice from a DataFrame.\n",
      "Try using .loc[row_indexer,col_indexer] = value instead\n",
      "\n",
      "See the caveats in the documentation: https://pandas.pydata.org/pandas-docs/stable/user_guide/indexing.html#returning-a-view-versus-a-copy\n",
      "  republican[columnName]=republican[columnName].fillna(republican[columnName].mode()[0])\n"
     ]
    }
   ],
   "source": [
    "for columnName in republican.columns:\n",
    "    republican[columnName]=republican[columnName].fillna(republican[columnName].mode()[0])"
   ]
  },
  {
   "cell_type": "code",
   "execution_count": 17,
   "id": "c8d98b78",
   "metadata": {},
   "outputs": [
    {
     "data": {
      "text/plain": [
       "Class Name                                 0\n",
       " handicapped-infants                       0\n",
       " water-project-cost-sharing                0\n",
       " adoption-of-the-budget-resolution         0\n",
       " physician-fee-freeze                      0\n",
       " el-salvador-aid                           0\n",
       " religious-groups-in-schools               0\n",
       " anti-satellite-test-ban                   0\n",
       " aid-to-nicaraguan-contras                 0\n",
       " mx-missile                                0\n",
       " immigration                               0\n",
       " synfuels-corporation-cutback              0\n",
       " education-spending                        0\n",
       " superfund-right-to-sue                    0\n",
       " crime                                     0\n",
       " duty-free-exports                         0\n",
       " export-administration-act-south-africa    0\n",
       "dtype: int64"
      ]
     },
     "execution_count": 17,
     "metadata": {},
     "output_type": "execute_result"
    }
   ],
   "source": [
    "republican.isna().sum()"
   ]
  },
  {
   "cell_type": "code",
   "execution_count": 18,
   "id": "85912800",
   "metadata": {},
   "outputs": [
    {
     "name": "stderr",
     "output_type": "stream",
     "text": [
      "<ipython-input-18-1767d72ea4dc>:2: SettingWithCopyWarning: \n",
      "A value is trying to be set on a copy of a slice from a DataFrame.\n",
      "Try using .loc[row_indexer,col_indexer] = value instead\n",
      "\n",
      "See the caveats in the documentation: https://pandas.pydata.org/pandas-docs/stable/user_guide/indexing.html#returning-a-view-versus-a-copy\n",
      "  democrat[columnName]=democrat[columnName].fillna(democrat[columnName].mode()[0])\n"
     ]
    }
   ],
   "source": [
    "for columnName in democrat.columns:\n",
    "    democrat[columnName]=democrat[columnName].fillna(democrat[columnName].mode()[0])"
   ]
  },
  {
   "cell_type": "code",
   "execution_count": 19,
   "id": "d22326bf",
   "metadata": {},
   "outputs": [
    {
     "data": {
      "text/plain": [
       "Class Name                                 0\n",
       " handicapped-infants                       0\n",
       " water-project-cost-sharing                0\n",
       " adoption-of-the-budget-resolution         0\n",
       " physician-fee-freeze                      0\n",
       " el-salvador-aid                           0\n",
       " religious-groups-in-schools               0\n",
       " anti-satellite-test-ban                   0\n",
       " aid-to-nicaraguan-contras                 0\n",
       " mx-missile                                0\n",
       " immigration                               0\n",
       " synfuels-corporation-cutback              0\n",
       " education-spending                        0\n",
       " superfund-right-to-sue                    0\n",
       " crime                                     0\n",
       " duty-free-exports                         0\n",
       " export-administration-act-south-africa    0\n",
       "dtype: int64"
      ]
     },
     "execution_count": 19,
     "metadata": {},
     "output_type": "execute_result"
    }
   ],
   "source": [
    "democrat.isna().sum()"
   ]
  },
  {
   "cell_type": "code",
   "execution_count": 20,
   "id": "a0942d2e",
   "metadata": {},
   "outputs": [],
   "source": [
    "data=pd.concat([republican,democrat],axis=0)"
   ]
  },
  {
   "cell_type": "code",
   "execution_count": 21,
   "id": "feafa63d",
   "metadata": {},
   "outputs": [
    {
     "data": {
      "text/plain": [
       "(435, 17)"
      ]
     },
     "execution_count": 21,
     "metadata": {},
     "output_type": "execute_result"
    }
   ],
   "source": [
    "data.shape"
   ]
  },
  {
   "cell_type": "code",
   "execution_count": 22,
   "id": "5a69a6d3",
   "metadata": {},
   "outputs": [],
   "source": [
    "x=data.drop(\"Class Name\",axis=1)"
   ]
  },
  {
   "cell_type": "code",
   "execution_count": 23,
   "id": "69394ac2",
   "metadata": {},
   "outputs": [
    {
     "data": {
      "text/html": [
       "<div>\n",
       "<style scoped>\n",
       "    .dataframe tbody tr th:only-of-type {\n",
       "        vertical-align: middle;\n",
       "    }\n",
       "\n",
       "    .dataframe tbody tr th {\n",
       "        vertical-align: top;\n",
       "    }\n",
       "\n",
       "    .dataframe thead th {\n",
       "        text-align: right;\n",
       "    }\n",
       "</style>\n",
       "<table border=\"1\" class=\"dataframe\">\n",
       "  <thead>\n",
       "    <tr style=\"text-align: right;\">\n",
       "      <th></th>\n",
       "      <th>handicapped-infants</th>\n",
       "      <th>water-project-cost-sharing</th>\n",
       "      <th>adoption-of-the-budget-resolution</th>\n",
       "      <th>physician-fee-freeze</th>\n",
       "      <th>el-salvador-aid</th>\n",
       "      <th>religious-groups-in-schools</th>\n",
       "      <th>anti-satellite-test-ban</th>\n",
       "      <th>aid-to-nicaraguan-contras</th>\n",
       "      <th>mx-missile</th>\n",
       "      <th>immigration</th>\n",
       "      <th>synfuels-corporation-cutback</th>\n",
       "      <th>education-spending</th>\n",
       "      <th>superfund-right-to-sue</th>\n",
       "      <th>crime</th>\n",
       "      <th>duty-free-exports</th>\n",
       "      <th>export-administration-act-south-africa</th>\n",
       "    </tr>\n",
       "  </thead>\n",
       "  <tbody>\n",
       "    <tr>\n",
       "      <th>0</th>\n",
       "      <td>n</td>\n",
       "      <td>y</td>\n",
       "      <td>n</td>\n",
       "      <td>y</td>\n",
       "      <td>y</td>\n",
       "      <td>y</td>\n",
       "      <td>n</td>\n",
       "      <td>n</td>\n",
       "      <td>n</td>\n",
       "      <td>y</td>\n",
       "      <td>n</td>\n",
       "      <td>y</td>\n",
       "      <td>y</td>\n",
       "      <td>y</td>\n",
       "      <td>n</td>\n",
       "      <td>y</td>\n",
       "    </tr>\n",
       "    <tr>\n",
       "      <th>1</th>\n",
       "      <td>n</td>\n",
       "      <td>y</td>\n",
       "      <td>n</td>\n",
       "      <td>y</td>\n",
       "      <td>y</td>\n",
       "      <td>y</td>\n",
       "      <td>n</td>\n",
       "      <td>n</td>\n",
       "      <td>n</td>\n",
       "      <td>n</td>\n",
       "      <td>n</td>\n",
       "      <td>y</td>\n",
       "      <td>y</td>\n",
       "      <td>y</td>\n",
       "      <td>n</td>\n",
       "      <td>y</td>\n",
       "    </tr>\n",
       "    <tr>\n",
       "      <th>7</th>\n",
       "      <td>n</td>\n",
       "      <td>y</td>\n",
       "      <td>n</td>\n",
       "      <td>y</td>\n",
       "      <td>y</td>\n",
       "      <td>y</td>\n",
       "      <td>n</td>\n",
       "      <td>n</td>\n",
       "      <td>n</td>\n",
       "      <td>n</td>\n",
       "      <td>n</td>\n",
       "      <td>n</td>\n",
       "      <td>y</td>\n",
       "      <td>y</td>\n",
       "      <td>n</td>\n",
       "      <td>y</td>\n",
       "    </tr>\n",
       "    <tr>\n",
       "      <th>8</th>\n",
       "      <td>n</td>\n",
       "      <td>y</td>\n",
       "      <td>n</td>\n",
       "      <td>y</td>\n",
       "      <td>y</td>\n",
       "      <td>y</td>\n",
       "      <td>n</td>\n",
       "      <td>n</td>\n",
       "      <td>n</td>\n",
       "      <td>n</td>\n",
       "      <td>n</td>\n",
       "      <td>y</td>\n",
       "      <td>y</td>\n",
       "      <td>y</td>\n",
       "      <td>n</td>\n",
       "      <td>y</td>\n",
       "    </tr>\n",
       "    <tr>\n",
       "      <th>10</th>\n",
       "      <td>n</td>\n",
       "      <td>y</td>\n",
       "      <td>n</td>\n",
       "      <td>y</td>\n",
       "      <td>y</td>\n",
       "      <td>n</td>\n",
       "      <td>n</td>\n",
       "      <td>n</td>\n",
       "      <td>n</td>\n",
       "      <td>n</td>\n",
       "      <td>n</td>\n",
       "      <td>y</td>\n",
       "      <td>y</td>\n",
       "      <td>y</td>\n",
       "      <td>n</td>\n",
       "      <td>n</td>\n",
       "    </tr>\n",
       "  </tbody>\n",
       "</table>\n",
       "</div>"
      ],
      "text/plain": [
       "    handicapped-infants  water-project-cost-sharing  \\\n",
       "0                     n                           y   \n",
       "1                     n                           y   \n",
       "7                     n                           y   \n",
       "8                     n                           y   \n",
       "10                    n                           y   \n",
       "\n",
       "    adoption-of-the-budget-resolution  physician-fee-freeze  el-salvador-aid  \\\n",
       "0                                   n                     y                y   \n",
       "1                                   n                     y                y   \n",
       "7                                   n                     y                y   \n",
       "8                                   n                     y                y   \n",
       "10                                  n                     y                y   \n",
       "\n",
       "    religious-groups-in-schools  anti-satellite-test-ban  \\\n",
       "0                             y                        n   \n",
       "1                             y                        n   \n",
       "7                             y                        n   \n",
       "8                             y                        n   \n",
       "10                            n                        n   \n",
       "\n",
       "    aid-to-nicaraguan-contras  mx-missile  immigration  \\\n",
       "0                           n           n            y   \n",
       "1                           n           n            n   \n",
       "7                           n           n            n   \n",
       "8                           n           n            n   \n",
       "10                          n           n            n   \n",
       "\n",
       "    synfuels-corporation-cutback  education-spending  superfund-right-to-sue  \\\n",
       "0                              n                   y                       y   \n",
       "1                              n                   y                       y   \n",
       "7                              n                   n                       y   \n",
       "8                              n                   y                       y   \n",
       "10                             n                   y                       y   \n",
       "\n",
       "    crime  duty-free-exports  export-administration-act-south-africa  \n",
       "0       y                  n                                       y  \n",
       "1       y                  n                                       y  \n",
       "7       y                  n                                       y  \n",
       "8       y                  n                                       y  \n",
       "10      y                  n                                       n  "
      ]
     },
     "execution_count": 23,
     "metadata": {},
     "output_type": "execute_result"
    }
   ],
   "source": [
    "x.head()"
   ]
  },
  {
   "cell_type": "code",
   "execution_count": 24,
   "id": "fce46c71",
   "metadata": {},
   "outputs": [],
   "source": [
    "y=data[\"Class Name\"]"
   ]
  },
  {
   "cell_type": "code",
   "execution_count": 25,
   "id": "c6686ed0",
   "metadata": {},
   "outputs": [
    {
     "data": {
      "text/plain": [
       " handicapped-infants                       0\n",
       " water-project-cost-sharing                0\n",
       " adoption-of-the-budget-resolution         0\n",
       " physician-fee-freeze                      0\n",
       " el-salvador-aid                           0\n",
       " religious-groups-in-schools               0\n",
       " anti-satellite-test-ban                   0\n",
       " aid-to-nicaraguan-contras                 0\n",
       " mx-missile                                0\n",
       " immigration                               0\n",
       " synfuels-corporation-cutback              0\n",
       " education-spending                        0\n",
       " superfund-right-to-sue                    0\n",
       " crime                                     0\n",
       " duty-free-exports                         0\n",
       " export-administration-act-south-africa    0\n",
       "dtype: int64"
      ]
     },
     "execution_count": 25,
     "metadata": {},
     "output_type": "execute_result"
    }
   ],
   "source": [
    "x.isna().sum()"
   ]
  },
  {
   "cell_type": "code",
   "execution_count": 26,
   "id": "eb682a23",
   "metadata": {},
   "outputs": [
    {
     "data": {
      "text/plain": [
       "0"
      ]
     },
     "execution_count": 26,
     "metadata": {},
     "output_type": "execute_result"
    }
   ],
   "source": [
    "y.isna().sum()"
   ]
  },
  {
   "cell_type": "code",
   "execution_count": 27,
   "id": "fa3f09d4",
   "metadata": {},
   "outputs": [
    {
     "data": {
      "text/plain": [
       " handicapped-infants                       object\n",
       " water-project-cost-sharing                object\n",
       " adoption-of-the-budget-resolution         object\n",
       " physician-fee-freeze                      object\n",
       " el-salvador-aid                           object\n",
       " religious-groups-in-schools               object\n",
       " anti-satellite-test-ban                   object\n",
       " aid-to-nicaraguan-contras                 object\n",
       " mx-missile                                object\n",
       " immigration                               object\n",
       " synfuels-corporation-cutback              object\n",
       " education-spending                        object\n",
       " superfund-right-to-sue                    object\n",
       " crime                                     object\n",
       " duty-free-exports                         object\n",
       " export-administration-act-south-africa    object\n",
       "dtype: object"
      ]
     },
     "execution_count": 27,
     "metadata": {},
     "output_type": "execute_result"
    }
   ],
   "source": [
    "x.dtypes"
   ]
  },
  {
   "cell_type": "code",
   "execution_count": 28,
   "id": "d2661cd9",
   "metadata": {},
   "outputs": [],
   "source": [
    "# This is a non linear model\n",
    "x=pd.get_dummies(x,columns=x.columns)"
   ]
  },
  {
   "cell_type": "code",
   "execution_count": 29,
   "id": "d210c734",
   "metadata": {},
   "outputs": [
    {
     "data": {
      "text/plain": [
       " handicapped-infants_n                       uint8\n",
       " handicapped-infants_y                       uint8\n",
       " water-project-cost-sharing_n                uint8\n",
       " water-project-cost-sharing_y                uint8\n",
       " adoption-of-the-budget-resolution_n         uint8\n",
       " adoption-of-the-budget-resolution_y         uint8\n",
       " physician-fee-freeze_n                      uint8\n",
       " physician-fee-freeze_y                      uint8\n",
       " el-salvador-aid_n                           uint8\n",
       " el-salvador-aid_y                           uint8\n",
       " religious-groups-in-schools_n               uint8\n",
       " religious-groups-in-schools_y               uint8\n",
       " anti-satellite-test-ban_n                   uint8\n",
       " anti-satellite-test-ban_y                   uint8\n",
       " aid-to-nicaraguan-contras_n                 uint8\n",
       " aid-to-nicaraguan-contras_y                 uint8\n",
       " mx-missile_n                                uint8\n",
       " mx-missile_y                                uint8\n",
       " immigration_n                               uint8\n",
       " immigration_y                               uint8\n",
       " synfuels-corporation-cutback_n              uint8\n",
       " synfuels-corporation-cutback_y              uint8\n",
       " education-spending_n                        uint8\n",
       " education-spending_y                        uint8\n",
       " superfund-right-to-sue_n                    uint8\n",
       " superfund-right-to-sue_y                    uint8\n",
       " crime_n                                     uint8\n",
       " crime_y                                     uint8\n",
       " duty-free-exports_n                         uint8\n",
       " duty-free-exports_y                         uint8\n",
       " export-administration-act-south-africa_n    uint8\n",
       " export-administration-act-south-africa_y    uint8\n",
       "dtype: object"
      ]
     },
     "execution_count": 29,
     "metadata": {},
     "output_type": "execute_result"
    }
   ],
   "source": [
    "x.dtypes"
   ]
  },
  {
   "cell_type": "code",
   "execution_count": 30,
   "id": "b80c4f06",
   "metadata": {},
   "outputs": [
    {
     "data": {
      "text/plain": [
       "pandas.core.frame.DataFrame"
      ]
     },
     "execution_count": 30,
     "metadata": {},
     "output_type": "execute_result"
    }
   ],
   "source": [
    "type(x)"
   ]
  },
  {
   "cell_type": "code",
   "execution_count": 31,
   "id": "fd946564",
   "metadata": {},
   "outputs": [
    {
     "data": {
      "text/plain": [
       "(435, 32)"
      ]
     },
     "execution_count": 31,
     "metadata": {},
     "output_type": "execute_result"
    }
   ],
   "source": [
    "x.shape"
   ]
  },
  {
   "cell_type": "code",
   "execution_count": 32,
   "id": "38585ae7",
   "metadata": {},
   "outputs": [],
   "source": [
    "from sklearn.model_selection import train_test_split"
   ]
  },
  {
   "cell_type": "code",
   "execution_count": 33,
   "id": "3399db83",
   "metadata": {},
   "outputs": [],
   "source": [
    "x_train,x_test,y_train,y_test = train_test_split(x,y,test_size=0.3, random_state=42,stratify=y)"
   ]
  },
  {
   "cell_type": "code",
   "execution_count": 34,
   "id": "b6f9c339",
   "metadata": {},
   "outputs": [],
   "source": [
    "# all features are already on same scale\n",
    "from sklearn.ensemble import RandomForestClassifier"
   ]
  },
  {
   "cell_type": "code",
   "execution_count": 35,
   "id": "4094cce1",
   "metadata": {},
   "outputs": [],
   "source": [
    "model= RandomForestClassifier()\n",
    "# or model= RandomForestClassifier(n_estimators=150)\n",
    "# or model= RandomForestClassifier(n_estimators=150, oob_score=True)"
   ]
  },
  {
   "cell_type": "code",
   "execution_count": 36,
   "id": "08ef1b80",
   "metadata": {},
   "outputs": [
    {
     "data": {
      "text/plain": [
       "RandomForestClassifier()"
      ]
     },
     "execution_count": 36,
     "metadata": {},
     "output_type": "execute_result"
    }
   ],
   "source": [
    "model.fit(x_train,y_train)"
   ]
  },
  {
   "cell_type": "code",
   "execution_count": 37,
   "id": "8c490ff4",
   "metadata": {},
   "outputs": [
    {
     "data": {
      "text/plain": [
       "0.9694656488549618"
      ]
     },
     "execution_count": 37,
     "metadata": {},
     "output_type": "execute_result"
    }
   ],
   "source": [
    "model.score(x_test,y_test)"
   ]
  },
  {
   "cell_type": "code",
   "execution_count": 38,
   "id": "aa84bcd7",
   "metadata": {},
   "outputs": [],
   "source": [
    "#help(RandomForestClassifier)\n",
    "#model.oob_score_"
   ]
  },
  {
   "cell_type": "code",
   "execution_count": null,
   "id": "3c64f6ed",
   "metadata": {},
   "outputs": [],
   "source": []
  }
 ],
 "metadata": {
  "kernelspec": {
   "display_name": "Python 3",
   "language": "python",
   "name": "python3"
  },
  "language_info": {
   "codemirror_mode": {
    "name": "ipython",
    "version": 3
   },
   "file_extension": ".py",
   "mimetype": "text/x-python",
   "name": "python",
   "nbconvert_exporter": "python",
   "pygments_lexer": "ipython3",
   "version": "3.8.5"
  }
 },
 "nbformat": 4,
 "nbformat_minor": 5
}
